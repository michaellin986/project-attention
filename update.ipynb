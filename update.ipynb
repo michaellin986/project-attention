{
 "cells": [
  {
   "cell_type": "markdown",
   "metadata": {
    "id": "kGMAhIAC1k6i"
   },
   "source": [
    "# CS 449 Final Project Update\n",
    "\n",
    "Due: May 23, 2023 at 11:59pm\n",
    "\n",
    "## 1. Names and Net IDs\n",
    "\n",
    "*List your group members*\n",
    "\n",
    "## 2. Abstract\n",
    "\n",
    "*Write a new abstract that describes the motivation for your project and proposed methods. This should reflect any changes you've made, but you'll explain those changes later.*\n",
    "\n",
    "> For example: Our project uses a variety of `torch` models to classify handwritten digits in the `Fashion MNIST` dataset. We will compare models such as Transformers and CNNs."
   ]
  },
  {
   "cell_type": "markdown",
   "metadata": {
    "id": "XNe28Z6wG3JE"
   },
   "source": [
    "## 3. Big Changes\n",
    "\n",
    "*Describe any major changes that have taken your project in a new direction. What made you decide to make these changes? Were some things easier or harder than you expected?*\n",
    "\n",
    "> For example: we intended to train sklearn models on the MNIST dataset, but found that was way too easy. We instead decided to use torch models on the more complicated Fashion MNIST dataset. This led us to an interesting challenge where..."
   ]
  },
  {
   "cell_type": "markdown",
   "metadata": {
    "id": "B-1Lwrn635Qa"
   },
   "source": [
    "## 4a. Describe your dataset(s)\n",
    "\n",
    "*This should be an updated version of your datasets section from your proposal. Write this section as if the reader hasn't read your original proposal. List the datasets you're using, where you found them, and what they contain. Be detailed! For each dataset, what does the data look like? What is the data representation? (e.g., what resolution of images? what length of sequences?) How is the data annotated or labeled? Include citations for the datasets. Include at least one citation of previous work that has used this data, or an explanation of why it hasn't been used before*\n",
    "\n",
    "> For example: we use the popular Fashion MNIST dataset, which contains ... greyscale images of clothing. The dataset was created in ..."
   ]
  },
  {
   "cell_type": "markdown",
   "metadata": {},
   "source": [
    "## 4b. Load your dataset(s)\n",
    "\n",
    "*Load at least a few examples and visualize them as best you can*"
   ]
  },
  {
   "cell_type": "markdown",
   "metadata": {
    "id": "PApFQ8J8I-oB"
   },
   "source": [
    "![fashion_mnist.png](data:image/png;base64,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)"
   ]
  },
  {
   "cell_type": "markdown",
   "metadata": {},
   "source": [
    "## 4c. Small dataset\n",
    "\n",
    "*Describe the small dataset you constructed as requested in the project proposal. How many examples did you use? How large was the dataset in total?*"
   ]
  },
  {
   "cell_type": "markdown",
   "metadata": {
    "id": "XCKtudoJ6V4g"
   },
   "source": [
    "## 5. Updated Methods\n",
    "\n",
    "*This should be an updated version of your methods section from your proposal. Write this section as if the reader hasn't read your original proposal. For example:*\n",
    "\n",
    "> This is a standard supervised learning task, and we will use `sklearn` and `torch` models to predict what kind of clothing appears in small images. The `sklearn` model will contain one weight per pixel, but our `torch` models will contain millions of weights. We will train our model using Cross-Entropy loss, because..."
   ]
  },
  {
   "cell_type": "markdown",
   "metadata": {
    "id": "BA5eIKsR7QRk"
   },
   "source": [
    "## 6. Proposed Deliverables\n",
    "\n",
    "*Copy the deliverables from your proposal and write a sentence saying whether you completed this goal, made progress on this goal, or abandoned this goal. Unless you completed the goal, give an explanation of how it went.*\n",
    "\n",
    "### 6.1 Previous Essential Goals\n",
    "- For example: We will use Logistic Regression, Support Vector Machine, and Decision Tree models to train and test on our MNIST data.\n",
    "  * We completed this goal by using the `sklearn` packages.\n",
    "- (List all your proposed goals here)\n",
    "\n",
    "### 6.2 Previous Desired Goals\n",
    "- For example: We will conduct a thorough hyperparameter search for all our models and provide a detailed and practical guide for how a researcher should search for good hyperparameter values.\n",
    "   * We made progress on this goal by running a hyperparameter grid search for both sklearn and torch models, but...\n",
    "- (List all your proposed goals here)\n",
    "\n",
    "### 6.3 Previous Stretch Goals\n",
    "- For example: We will conduct a manual analysis of the digits that our model gets wrong and use a GAN to create new images that help us learn a more robust classifier.\n",
    "   * We abandoned this goal because we didn't want to conduct a manual analysis.\n",
    "- (List all your proposed goals here)"
   ]
  },
  {
   "cell_type": "markdown",
   "metadata": {
    "id": "8jktC1PBOgPe"
   },
   "source": [
    "## 7. Results So Far\n",
    "\n",
    "*Show the results of your methods trained on your data. You should at least have empirical results for the small dataset described in 4c. Unless you are doing generation or another task where simple models (e.g., linear regression or logistic regression) aren't applicable, we strongly encourage you to compare your initial results against a simple baseline. If you have additional results, you're welcome to include those as well.*\n",
    "\n",
    "> For example: our logistic regression baseline achieves 80% accuracy on Fashion-MNIST, and our MLP achieves 85% accuracy, when applied to our small dataset containing 1,000 subsampled images."
   ]
  },
  {
   "cell_type": "markdown",
   "metadata": {
    "id": "CxN_i_FiH0Yc"
   },
   "source": [
    "## 8. New Deliverables\n",
    "\n",
    "*For any proposed deliverables that you did NOT complete or abandon, copy them into these lists below. Then, if you have abandoned or completed your Desired or Stretch goals, add new goals until you have at least two goals per category.*\n",
    "\n",
    "8.1 New Essential Goals\n",
    "\n",
    "- Copy the old essential goals that you haven't yet completed or abandoned.\n",
    "\n",
    "- Don't add any new Essential goals.\n",
    "\n",
    "8.2 New Desired Goals\n",
    "\n",
    "- Copy the old desired goals that you haven't yet completed or abandoned.\n",
    "\n",
    "- Make sure you have at least two Desired goals left to complete here, adding new goals as necessary.\n",
    "\n",
    "8.3 New Stretch Goals\n",
    "\n",
    "- Copy the old stretch goals that you haven't yet completed or abandoned.\n",
    "\n",
    "- Make sure you have at least two Stretch goals left to complete here, adding new goals as necessary."
   ]
  },
  {
   "cell_type": "markdown",
   "metadata": {
    "id": "xlB_wLS381Xy"
   },
   "source": [
    "## 9. Hopes and Concerns\n",
    "\n",
    "*What's gone well so far? What's been the hardest thing?*\n",
    "\n",
    "> For example: we got really bored of staring at pixelated hand-written digits for hours on end."
   ]
  },
  {
   "cell_type": "markdown",
   "metadata": {
    "id": "u2peFc_M8-E7"
   },
   "source": [
    "## 10. References\n",
    "\n",
    "*Cite the papers or sources that you used to discover your datasets and/or models, if you didn't include the citation above. For example:*\n",
    "\n",
    "LeCun, Yann, et al. \"Gradient-based learning applied to document recognition.\" Proceedings of the IEEE 86.11 (1998): 2278-2324."
   ]
  }
 ],
 "metadata": {
  "colab": {
   "provenance": []
  },
  "kernelspec": {
   "display_name": "Python 3",
   "language": "python",
   "name": "python3"
  },
  "language_info": {
   "codemirror_mode": {
    "name": "ipython",
    "version": 3
   },
   "file_extension": ".py",
   "mimetype": "text/x-python",
   "name": "python",
   "nbconvert_exporter": "python",
   "pygments_lexer": "ipython3",
   "version": "3.8.5"
  }
 },
 "nbformat": 4,
 "nbformat_minor": 1
}
